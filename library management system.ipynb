{
 "cells": [
  {
   "cell_type": "code",
   "execution_count": 1,
   "id": "8ef1382b",
   "metadata": {},
   "outputs": [
    {
     "name": "stdout",
     "output_type": "stream",
     "text": [
      "Requirement already satisfied: mysql.connector in c:\\users\\savita\\anaconda3\\lib\\site-packages (2.2.9)\n",
      "Note: you may need to restart the kernel to use updated packages.\n"
     ]
    }
   ],
   "source": [
    "pip install mysql.connector"
   ]
  },
  {
   "cell_type": "code",
   "execution_count": null,
   "id": "dc1f6ee0",
   "metadata": {},
   "outputs": [],
   "source": [
    "pip install mysql.connector.python    #need to install this coz earlier notsupportederror authentcation in a.connect line"
   ]
  },
  {
   "cell_type": "code",
   "execution_count": 3,
   "id": "84bfce97",
   "metadata": {},
   "outputs": [],
   "source": [
    "import mysql.connector as a"
   ]
  },
  {
   "cell_type": "code",
   "execution_count": 4,
   "id": "2275b50f",
   "metadata": {},
   "outputs": [],
   "source": [
    "con=a.connect(host=\"localhost\",user=\"root\",password=\"savita@un17\",database=\"library\")"
   ]
  },
  {
   "cell_type": "code",
   "execution_count": 5,
   "id": "67affc1d",
   "metadata": {},
   "outputs": [],
   "source": [
    "def addbook():\n",
    "    bn=input(\"enter book name:\")\n",
    "    c=input(\"enter book code:\")\n",
    "    t=input(\"total books:\")\n",
    "    s=input(\"enter subject:\")\n",
    "    data=(bn,c,t,s)    #storing in tuble\n",
    "    sql=\"insert into books values(%s,%s,%s,%s)\"   #sql query   #small s if u use capital s will throw programminerror\n",
    "    C=con.cursor()          #made cursor object ,cursor is class itself\n",
    "    C.execute(sql,data)       #calling cursor's method excute\n",
    "    con.commit()           #confirm the changes made by user to the database-commit\n",
    "    print(\">_____________<\")\n",
    "    print(\"data enter successfully\")\n",
    "    main()          #here calling main so we can keep the task continue"
   ]
  },
  {
   "cell_type": "code",
   "execution_count": 6,
   "id": "8c7007cd",
   "metadata": {},
   "outputs": [],
   "source": [
    "def issueb():\n",
    "    n=input(\"enter name:\")\n",
    "    r=input(\"enter reg no:\")\n",
    "    co=input(\"enter book code:\")\n",
    "    d=input(\"enter date:\")\n",
    "    a=\"insert into issue values(%s,%s,%s,%s)\"\n",
    "    data=(n,r,co,d)\n",
    "    C=con.cursor()\n",
    "    C.execute(a,data)\n",
    "    con.commit()\n",
    "    print(\"<______________>\")\n",
    "    print(\"book issued to:\",n)\n",
    "    bookup(co,-1)      #we r not calling here main() coz we calling bookup and there is main() so no need here"
   ]
  },
  {
   "cell_type": "code",
   "execution_count": 7,
   "id": "21daf307",
   "metadata": {},
   "outputs": [],
   "source": [
    "def submitb():\n",
    "    n=input(\"enter name:\")\n",
    "    r=input(\"enter reg no:\")\n",
    "    co=input(\"enter book code:\")\n",
    "    d=input(\"enter date:\")\n",
    "    a=\"insert into submit values(%s,%s,%s,%s)\"\n",
    "    data=(n,r,co,d)\n",
    "    C=con.cursor()\n",
    "    C.execute(a,data)\n",
    "    con.commit()\n",
    "    print(\"<______________>\")\n",
    "    print(\"book submitted from :\",n)\n",
    "    bookup(co,1)  \n",
    "    "
   ]
  },
  {
   "cell_type": "code",
   "execution_count": 13,
   "id": "367b569a",
   "metadata": {},
   "outputs": [],
   "source": [
    "def bookup(co,u):        #code and update # this function keeps the total books count\n",
    "    a=\"select total from books where bcode=%s\"\n",
    "    data=(co,)\n",
    "    c=con.cursor()\n",
    "    c.execute(a,data)       #execute total and code\n",
    "    myresult=c.fetchone()    #only want first value\n",
    "    t=myresult[0]+u         # u value may be -(issued) or plus + (added)\n",
    "    sql=\"update books set total=%s where bcode=%s\"\n",
    "    d=(t,co)\n",
    "    c.execute(sql,d)\n",
    "    con.commit()\n",
    "    main()\n",
    "    \n",
    "    "
   ]
  },
  {
   "cell_type": "code",
   "execution_count": 17,
   "id": "142ce57a",
   "metadata": {},
   "outputs": [],
   "source": [
    "def dbook():\n",
    "    ac=input(\"enter book code:\")\n",
    "    a=\"delete from books where bcode=%s\"\n",
    "    data=(ac,)         #tuple of single value need to write this way\n",
    "    c=con.cursor()\n",
    "    c.execute(a,data)\n",
    "    con.commit()\n",
    "    main()\n",
    "    "
   ]
  },
  {
   "cell_type": "code",
   "execution_count": 15,
   "id": "a95a51b4",
   "metadata": {},
   "outputs": [],
   "source": [
    "def dispbook():\n",
    "    a=\"select*from books\"\n",
    "    c=con.cursor()\n",
    "    c.execute(a)\n",
    "    myresult=c.fetchall()\n",
    "    for i in myresult:          #in first loop will get first row (tuple value) then so on__\n",
    "        print(\"book name:\",i[0])\n",
    "        print(\"book code:\",i[1])\n",
    "        print(\"total:\",i[2])\n",
    "        print(\"subject:\",i[3])\n",
    "        print(\"<_________>\")\n",
    "    main()"
   ]
  },
  {
   "cell_type": "code",
   "execution_count": 11,
   "id": "44dc3b28",
   "metadata": {},
   "outputs": [],
   "source": [
    "def main():\n",
    "    print(\"\"\"         #triple qoute used to print strings on multiple lines\n",
    "            Library Manager\n",
    "    1. add book\n",
    "    2. issue book\n",
    "    3. submit book\n",
    "    4. delete book\n",
    "    5. display books\n",
    "    \"\"\")\n",
    "    choice = input(\"enter task no:\")\n",
    "    print(\"<________>\")\n",
    "    if (choice==\"1\"):\n",
    "        addbook()        #calling function\n",
    "    elif (choice==\"2\"):\n",
    "        issueb()\n",
    "    elif (choice==\"3\"):\n",
    "        submitb()\n",
    "    elif (choice==\"4\"): \n",
    "        dbook()\n",
    "    elif (choice==\"5\"):\n",
    "        dispbook()\n",
    "    else:\n",
    "        print(\"wrong choice____\")\n",
    "        main()           #again calling main so can enter another number and search"
   ]
  },
  {
   "cell_type": "code",
   "execution_count": null,
   "id": "6c8bb92d",
   "metadata": {},
   "outputs": [
    {
     "name": "stdout",
     "output_type": "stream",
     "text": [
      "enter password:py143\n",
      "         #triple qoute used to print strings on multiple lines\n",
      "            Library Manager\n",
      "    1. add book\n",
      "    2. issue book\n",
      "    3. submit book\n",
      "    4. delete book\n",
      "    5. display books\n",
      "    \n",
      "enter task no:4\n",
      "<________>\n",
      "enter book code:12345s\n",
      "         #triple qoute used to print strings on multiple lines\n",
      "            Library Manager\n",
      "    1. add book\n",
      "    2. issue book\n",
      "    3. submit book\n",
      "    4. delete book\n",
      "    5. display books\n",
      "    \n",
      "enter task no:5\n",
      "<________>\n",
      "book name: ds1\n",
      "book code: 380\n",
      "total: 0\n",
      "subject: python\n",
      "<_________>\n",
      "         #triple qoute used to print strings on multiple lines\n",
      "            Library Manager\n",
      "    1. add book\n",
      "    2. issue book\n",
      "    3. submit book\n",
      "    4. delete book\n",
      "    5. display books\n",
      "    \n",
      "enter task no:3\n",
      "<________>\n",
      "enter name:savita\n",
      "enter reg no:380\n",
      "enter book code:380\n",
      "enter date:8-9-22\n",
      "<______________>\n",
      "book submitted from : savita\n",
      "         #triple qoute used to print strings on multiple lines\n",
      "            Library Manager\n",
      "    1. add book\n",
      "    2. issue book\n",
      "    3. submit book\n",
      "    4. delete book\n",
      "    5. display books\n",
      "    \n",
      "enter task no:5\n",
      "<________>\n",
      "book name: ds1\n",
      "book code: 380\n",
      "total: 1\n",
      "subject: python\n",
      "<_________>\n",
      "         #triple qoute used to print strings on multiple lines\n",
      "            Library Manager\n",
      "    1. add book\n",
      "    2. issue book\n",
      "    3. submit book\n",
      "    4. delete book\n",
      "    5. display books\n",
      "    \n"
     ]
    }
   ],
   "source": [
    "def pswd():\n",
    "    ps=input(\"enter password:\")\n",
    "    if ps==\"py143\":        #here we set this password\n",
    "      main()\n",
    "    else:\n",
    "        print(\"wrong password\")\n",
    "        pswd()\n",
    "pswd()"
   ]
  },
  {
   "cell_type": "code",
   "execution_count": null,
   "id": "e7d3024d",
   "metadata": {},
   "outputs": [],
   "source": []
  }
 ],
 "metadata": {
  "kernelspec": {
   "display_name": "Python 3",
   "language": "python",
   "name": "python3"
  },
  "language_info": {
   "codemirror_mode": {
    "name": "ipython",
    "version": 3
   },
   "file_extension": ".py",
   "mimetype": "text/x-python",
   "name": "python",
   "nbconvert_exporter": "python",
   "pygments_lexer": "ipython3",
   "version": "3.8.8"
  }
 },
 "nbformat": 4,
 "nbformat_minor": 5
}
